{
 "cells": [
  {
   "cell_type": "markdown",
   "metadata": {},
   "source": [
    "# Capstone Project: Create a Customer Segmentation Report for Arvato Financial Services\n",
    "\n",
    "__Udacity briefing__:\n",
    "\n",
    "In this project, you will analyze demographics data for customers of a mail-order sales company in Germany, comparing it against demographics information for the general population. You'll use unsupervised learning techniques to perform customer segmentation, identifying the parts of the population that best describe the core customer base of the company. Then, you'll apply what you've learned on a third dataset with demographics information for targets of a marketing campaign for the company, and use a model to predict which individuals are most likely to convert into becoming customers for the company. The data that you will use has been provided by our partners at Bertelsmann Arvato Analytics, and represents a real-life data science task.\n",
    "\n",
    "If you completed the first term of this program, you will be familiar with the first part of this project, from the unsupervised learning project. The versions of those two datasets used in this project will include many more features and has not been pre-cleaned. You are also free to choose whatever approach you'd like to analyzing the data rather than follow pre-determined steps. In your work on this project, make sure that you carefully document your steps and decisions, since your main deliverable for this project will be a blog post reporting your findings."
   ]
  },
  {
   "cell_type": "markdown",
   "metadata": {},
   "source": [
    "# Part 3: Supervised Learning Model\n",
    "\n",
    "Now that you've found which parts of the population are more likely to be customers of the mail-order company, it's time to build a prediction model. Each of the rows in the \"MAILOUT\" data files represents an individual that was targeted for a mailout campaign. Ideally, we should be able to use the demographic information from each individual to decide whether or not it will be worth it to include that person in the campaign.\n",
    "\n",
    "The \"MAILOUT\" data has been split into two approximately equal parts, each with almost 43 000 data rows. In this part, you can verify your model with the \"TRAIN\" partition, which includes a column, \"RESPONSE\", that states whether or not a person became a customer of the company following the campaign. In the next part, you'll need to create predictions on the \"TEST\" partition, where the \"RESPONSE\" column has been withheld.\n",
    "\n",
    "\n",
    "---\n",
    "\n",
    "## Contents\n",
    "\n",
    "1.  <a href='#sagemaker_setup'>Sagemaker Setuip</a>  \n",
    "1.  <a href='#load_data'>Load data</a>    \n",
    "1.  <a href='#clean_data'>Clean data</a>\n",
    "1.  <a href='#data_preparation'>Model data preparation</a>\n",
    "1.  <a href='#baseline'>Setting a baseline</a>\n",
    "1.  <a href='#training'>Sagemaker hyperparameter tuning</a>\n",
    "1.  <a href='#predict'>Predict and feature analysis using validation dataset</a>\n",
    "1.  <a href='#kaggle'>Kaggle competition - Final prediction on testing dataset</a>\n",
    "\n",
    "---"
   ]
  },
  {
   "cell_type": "code",
   "execution_count": 1,
   "metadata": {
    "scrolled": false
   },
   "outputs": [],
   "source": [
    "# import libraries \n",
    "import os\n",
    "import time\n",
    "\n",
    "import xgboost as xgb\n",
    "from imblearn.over_sampling import RandomOverSampler\n",
    "\n",
    "import sagemaker\n",
    "from sagemaker import image_uris\n",
    "from sagemaker.inputs import TrainingInput\n",
    "from sagemaker.tuner import IntegerParameter, ContinuousParameter, HyperparameterTuner\n",
    "from sagemaker.debugger import ProfilerConfig, DebuggerHookConfig, Rule, ProfilerRule, rule_configs, CollectionConfig\n",
    "from sagemaker.tuner import WarmStartConfig, WarmStartTypes\n",
    "\n",
    "# to analyze xgboost results locally\n",
    "import graphviz\n",
    "import tarfile\n",
    "# for creating a feature tree\n",
    "from xgboost import plot_tree\n",
    "# for calculating feature importance\n",
    "from xgboost import plot_importance\n",
    "\n",
    "from sklearn.ensemble import AdaBoostClassifier\n",
    "from sklearn.metrics import accuracy_score, roc_auc_score, confusion_matrix\n",
    "from sklearn.model_selection import train_test_split\n",
    "from sklearn.tree import DecisionTreeClassifier\n",
    "\n",
    "# Import custom modules\n",
    "from src.config import *\n",
    "from src.data_cleansing import *\n",
    "from src.data_loading import *\n",
    "from src.helper import *\n",
    "from src.visuals import *\n",
    "\n",
    "# environment settings\n",
    "pd.set_option('display.max_column', 400)\n",
    "pd.set_option('display.max_rows', 5000)\n",
    "pd.set_option('display.max_colwidth', 400)\n",
    "pd.set_option('expand_frame_repr', True)\n",
    "\n",
    "# magic word for producing visualizations in notebook\n",
    "%matplotlib inline\n",
    "\n",
    "# suppress matplotlib user warnings\n",
    "import warnings\n",
    "warnings.filterwarnings(\"ignore\", category=UserWarning, module=\"matplotlib\")"
   ]
  },
  {
   "cell_type": "code",
   "execution_count": 2,
   "metadata": {
    "scrolled": false
   },
   "outputs": [],
   "source": [
    "random_state = 88 "
   ]
  },
  {
   "cell_type": "markdown",
   "metadata": {},
   "source": [
    "<a id='sagemaker_setup'></a>\n",
    "# Step 1: Sagemaker Set-up"
   ]
  },
  {
   "cell_type": "code",
   "execution_count": 3,
   "metadata": {
    "scrolled": false
   },
   "outputs": [
    {
     "name": "stdout",
     "output_type": "stream",
     "text": [
      "Notebook is running locally\n"
     ]
    },
    {
     "ename": "NoCredentialsError",
     "evalue": "Unable to locate credentials",
     "output_type": "error",
     "traceback": [
      "\u001b[0;31m---------------------------------------------------------------------------\u001b[0m",
      "\u001b[0;31mNoCredentialsError\u001b[0m                        Traceback (most recent call last)",
      "\u001b[0;32m/var/folders/4p/r9m3gynn3wj6h4yh4_lwz5fw0000gn/T/ipykernel_22723/1551630100.py\u001b[0m in \u001b[0;36m<module>\u001b[0;34m\u001b[0m\n\u001b[1;32m     13\u001b[0m \u001b[0;34m\u001b[0m\u001b[0m\n\u001b[1;32m     14\u001b[0m \u001b[0;31m# set default bucket\u001b[0m\u001b[0;34m\u001b[0m\u001b[0;34m\u001b[0m\u001b[0;34m\u001b[0m\u001b[0m\n\u001b[0;32m---> 15\u001b[0;31m \u001b[0mbucket\u001b[0m \u001b[0;34m=\u001b[0m \u001b[0msagemaker_session\u001b[0m\u001b[0;34m.\u001b[0m\u001b[0mdefault_bucket\u001b[0m\u001b[0;34m(\u001b[0m\u001b[0;34m)\u001b[0m\u001b[0;34m\u001b[0m\u001b[0;34m\u001b[0m\u001b[0m\n\u001b[0m\u001b[1;32m     16\u001b[0m \u001b[0mprint\u001b[0m\u001b[0;34m(\u001b[0m\u001b[0;34m'Bucket: {}'\u001b[0m\u001b[0;34m.\u001b[0m\u001b[0mformat\u001b[0m\u001b[0;34m(\u001b[0m\u001b[0mbucket\u001b[0m\u001b[0;34m)\u001b[0m\u001b[0;34m)\u001b[0m\u001b[0;34m\u001b[0m\u001b[0;34m\u001b[0m\u001b[0m\n\u001b[1;32m     17\u001b[0m \u001b[0;34m\u001b[0m\u001b[0m\n",
      "\u001b[0;32m~/opt/anaconda3/envs/mailout/lib/python3.7/site-packages/sagemaker/session.py\u001b[0m in \u001b[0;36mdefault_bucket\u001b[0;34m(self)\u001b[0m\n\u001b[1;32m    373\u001b[0m         \u001b[0;32mif\u001b[0m \u001b[0;32mnot\u001b[0m \u001b[0mdefault_bucket\u001b[0m\u001b[0;34m:\u001b[0m\u001b[0;34m\u001b[0m\u001b[0;34m\u001b[0m\u001b[0m\n\u001b[1;32m    374\u001b[0m             account = self.boto_session.client(\n\u001b[0;32m--> 375\u001b[0;31m                 \u001b[0;34m\"sts\"\u001b[0m\u001b[0;34m,\u001b[0m \u001b[0mregion_name\u001b[0m\u001b[0;34m=\u001b[0m\u001b[0mregion\u001b[0m\u001b[0;34m,\u001b[0m \u001b[0mendpoint_url\u001b[0m\u001b[0;34m=\u001b[0m\u001b[0msts_regional_endpoint\u001b[0m\u001b[0;34m(\u001b[0m\u001b[0mregion\u001b[0m\u001b[0;34m)\u001b[0m\u001b[0;34m\u001b[0m\u001b[0;34m\u001b[0m\u001b[0m\n\u001b[0m\u001b[1;32m    376\u001b[0m             ).get_caller_identity()[\"Account\"]\n\u001b[1;32m    377\u001b[0m             \u001b[0mdefault_bucket\u001b[0m \u001b[0;34m=\u001b[0m \u001b[0;34m\"sagemaker-{}-{}\"\u001b[0m\u001b[0;34m.\u001b[0m\u001b[0mformat\u001b[0m\u001b[0;34m(\u001b[0m\u001b[0mregion\u001b[0m\u001b[0;34m,\u001b[0m \u001b[0maccount\u001b[0m\u001b[0;34m)\u001b[0m\u001b[0;34m\u001b[0m\u001b[0;34m\u001b[0m\u001b[0m\n",
      "\u001b[0;32m~/opt/anaconda3/envs/mailout/lib/python3.7/site-packages/botocore/client.py\u001b[0m in \u001b[0;36m_api_call\u001b[0;34m(self, *args, **kwargs)\u001b[0m\n\u001b[1;32m    384\u001b[0m                     \"%s() only accepts keyword arguments.\" % py_operation_name)\n\u001b[1;32m    385\u001b[0m             \u001b[0;31m# The \"self\" in this scope is referring to the BaseClient.\u001b[0m\u001b[0;34m\u001b[0m\u001b[0;34m\u001b[0m\u001b[0;34m\u001b[0m\u001b[0m\n\u001b[0;32m--> 386\u001b[0;31m             \u001b[0;32mreturn\u001b[0m \u001b[0mself\u001b[0m\u001b[0;34m.\u001b[0m\u001b[0m_make_api_call\u001b[0m\u001b[0;34m(\u001b[0m\u001b[0moperation_name\u001b[0m\u001b[0;34m,\u001b[0m \u001b[0mkwargs\u001b[0m\u001b[0;34m)\u001b[0m\u001b[0;34m\u001b[0m\u001b[0;34m\u001b[0m\u001b[0m\n\u001b[0m\u001b[1;32m    387\u001b[0m \u001b[0;34m\u001b[0m\u001b[0m\n\u001b[1;32m    388\u001b[0m         \u001b[0m_api_call\u001b[0m\u001b[0;34m.\u001b[0m\u001b[0m__name__\u001b[0m \u001b[0;34m=\u001b[0m \u001b[0mstr\u001b[0m\u001b[0;34m(\u001b[0m\u001b[0mpy_operation_name\u001b[0m\u001b[0;34m)\u001b[0m\u001b[0;34m\u001b[0m\u001b[0;34m\u001b[0m\u001b[0m\n",
      "\u001b[0;32m~/opt/anaconda3/envs/mailout/lib/python3.7/site-packages/botocore/client.py\u001b[0m in \u001b[0;36m_make_api_call\u001b[0;34m(self, operation_name, api_params)\u001b[0m\n\u001b[1;32m    690\u001b[0m         \u001b[0;32melse\u001b[0m\u001b[0;34m:\u001b[0m\u001b[0;34m\u001b[0m\u001b[0;34m\u001b[0m\u001b[0m\n\u001b[1;32m    691\u001b[0m             http, parsed_response = self._make_request(\n\u001b[0;32m--> 692\u001b[0;31m                 operation_model, request_dict, request_context)\n\u001b[0m\u001b[1;32m    693\u001b[0m \u001b[0;34m\u001b[0m\u001b[0m\n\u001b[1;32m    694\u001b[0m         self.meta.events.emit(\n",
      "\u001b[0;32m~/opt/anaconda3/envs/mailout/lib/python3.7/site-packages/botocore/client.py\u001b[0m in \u001b[0;36m_make_request\u001b[0;34m(self, operation_model, request_dict, request_context)\u001b[0m\n\u001b[1;32m    709\u001b[0m     \u001b[0;32mdef\u001b[0m \u001b[0m_make_request\u001b[0m\u001b[0;34m(\u001b[0m\u001b[0mself\u001b[0m\u001b[0;34m,\u001b[0m \u001b[0moperation_model\u001b[0m\u001b[0;34m,\u001b[0m \u001b[0mrequest_dict\u001b[0m\u001b[0;34m,\u001b[0m \u001b[0mrequest_context\u001b[0m\u001b[0;34m)\u001b[0m\u001b[0;34m:\u001b[0m\u001b[0;34m\u001b[0m\u001b[0;34m\u001b[0m\u001b[0m\n\u001b[1;32m    710\u001b[0m         \u001b[0;32mtry\u001b[0m\u001b[0;34m:\u001b[0m\u001b[0;34m\u001b[0m\u001b[0;34m\u001b[0m\u001b[0m\n\u001b[0;32m--> 711\u001b[0;31m             \u001b[0;32mreturn\u001b[0m \u001b[0mself\u001b[0m\u001b[0;34m.\u001b[0m\u001b[0m_endpoint\u001b[0m\u001b[0;34m.\u001b[0m\u001b[0mmake_request\u001b[0m\u001b[0;34m(\u001b[0m\u001b[0moperation_model\u001b[0m\u001b[0;34m,\u001b[0m \u001b[0mrequest_dict\u001b[0m\u001b[0;34m)\u001b[0m\u001b[0;34m\u001b[0m\u001b[0;34m\u001b[0m\u001b[0m\n\u001b[0m\u001b[1;32m    712\u001b[0m         \u001b[0;32mexcept\u001b[0m \u001b[0mException\u001b[0m \u001b[0;32mas\u001b[0m \u001b[0me\u001b[0m\u001b[0;34m:\u001b[0m\u001b[0;34m\u001b[0m\u001b[0;34m\u001b[0m\u001b[0m\n\u001b[1;32m    713\u001b[0m             self.meta.events.emit(\n",
      "\u001b[0;32m~/opt/anaconda3/envs/mailout/lib/python3.7/site-packages/botocore/endpoint.py\u001b[0m in \u001b[0;36mmake_request\u001b[0;34m(self, operation_model, request_dict)\u001b[0m\n\u001b[1;32m    100\u001b[0m         logger.debug(\"Making request for %s with params: %s\",\n\u001b[1;32m    101\u001b[0m                      operation_model, request_dict)\n\u001b[0;32m--> 102\u001b[0;31m         \u001b[0;32mreturn\u001b[0m \u001b[0mself\u001b[0m\u001b[0;34m.\u001b[0m\u001b[0m_send_request\u001b[0m\u001b[0;34m(\u001b[0m\u001b[0mrequest_dict\u001b[0m\u001b[0;34m,\u001b[0m \u001b[0moperation_model\u001b[0m\u001b[0;34m)\u001b[0m\u001b[0;34m\u001b[0m\u001b[0;34m\u001b[0m\u001b[0m\n\u001b[0m\u001b[1;32m    103\u001b[0m \u001b[0;34m\u001b[0m\u001b[0m\n\u001b[1;32m    104\u001b[0m     \u001b[0;32mdef\u001b[0m \u001b[0mcreate_request\u001b[0m\u001b[0;34m(\u001b[0m\u001b[0mself\u001b[0m\u001b[0;34m,\u001b[0m \u001b[0mparams\u001b[0m\u001b[0;34m,\u001b[0m \u001b[0moperation_model\u001b[0m\u001b[0;34m=\u001b[0m\u001b[0;32mNone\u001b[0m\u001b[0;34m)\u001b[0m\u001b[0;34m:\u001b[0m\u001b[0;34m\u001b[0m\u001b[0;34m\u001b[0m\u001b[0m\n",
      "\u001b[0;32m~/opt/anaconda3/envs/mailout/lib/python3.7/site-packages/botocore/endpoint.py\u001b[0m in \u001b[0;36m_send_request\u001b[0;34m(self, request_dict, operation_model)\u001b[0m\n\u001b[1;32m    130\u001b[0m     \u001b[0;32mdef\u001b[0m \u001b[0m_send_request\u001b[0m\u001b[0;34m(\u001b[0m\u001b[0mself\u001b[0m\u001b[0;34m,\u001b[0m \u001b[0mrequest_dict\u001b[0m\u001b[0;34m,\u001b[0m \u001b[0moperation_model\u001b[0m\u001b[0;34m)\u001b[0m\u001b[0;34m:\u001b[0m\u001b[0;34m\u001b[0m\u001b[0;34m\u001b[0m\u001b[0m\n\u001b[1;32m    131\u001b[0m         \u001b[0mattempts\u001b[0m \u001b[0;34m=\u001b[0m \u001b[0;36m1\u001b[0m\u001b[0;34m\u001b[0m\u001b[0;34m\u001b[0m\u001b[0m\n\u001b[0;32m--> 132\u001b[0;31m         \u001b[0mrequest\u001b[0m \u001b[0;34m=\u001b[0m \u001b[0mself\u001b[0m\u001b[0;34m.\u001b[0m\u001b[0mcreate_request\u001b[0m\u001b[0;34m(\u001b[0m\u001b[0mrequest_dict\u001b[0m\u001b[0;34m,\u001b[0m \u001b[0moperation_model\u001b[0m\u001b[0;34m)\u001b[0m\u001b[0;34m\u001b[0m\u001b[0;34m\u001b[0m\u001b[0m\n\u001b[0m\u001b[1;32m    133\u001b[0m         \u001b[0mcontext\u001b[0m \u001b[0;34m=\u001b[0m \u001b[0mrequest_dict\u001b[0m\u001b[0;34m[\u001b[0m\u001b[0;34m'context'\u001b[0m\u001b[0;34m]\u001b[0m\u001b[0;34m\u001b[0m\u001b[0;34m\u001b[0m\u001b[0m\n\u001b[1;32m    134\u001b[0m         success_response, exception = self._get_response(\n",
      "\u001b[0;32m~/opt/anaconda3/envs/mailout/lib/python3.7/site-packages/botocore/endpoint.py\u001b[0m in \u001b[0;36mcreate_request\u001b[0;34m(self, params, operation_model)\u001b[0m\n\u001b[1;32m    114\u001b[0m                 op_name=operation_model.name)\n\u001b[1;32m    115\u001b[0m             self._event_emitter.emit(event_name, request=request,\n\u001b[0;32m--> 116\u001b[0;31m                                      operation_name=operation_model.name)\n\u001b[0m\u001b[1;32m    117\u001b[0m         \u001b[0mprepared_request\u001b[0m \u001b[0;34m=\u001b[0m \u001b[0mself\u001b[0m\u001b[0;34m.\u001b[0m\u001b[0mprepare_request\u001b[0m\u001b[0;34m(\u001b[0m\u001b[0mrequest\u001b[0m\u001b[0;34m)\u001b[0m\u001b[0;34m\u001b[0m\u001b[0;34m\u001b[0m\u001b[0m\n\u001b[1;32m    118\u001b[0m         \u001b[0;32mreturn\u001b[0m \u001b[0mprepared_request\u001b[0m\u001b[0;34m\u001b[0m\u001b[0;34m\u001b[0m\u001b[0m\n",
      "\u001b[0;32m~/opt/anaconda3/envs/mailout/lib/python3.7/site-packages/botocore/hooks.py\u001b[0m in \u001b[0;36memit\u001b[0;34m(self, event_name, **kwargs)\u001b[0m\n\u001b[1;32m    355\u001b[0m     \u001b[0;32mdef\u001b[0m \u001b[0memit\u001b[0m\u001b[0;34m(\u001b[0m\u001b[0mself\u001b[0m\u001b[0;34m,\u001b[0m \u001b[0mevent_name\u001b[0m\u001b[0;34m,\u001b[0m \u001b[0;34m**\u001b[0m\u001b[0mkwargs\u001b[0m\u001b[0;34m)\u001b[0m\u001b[0;34m:\u001b[0m\u001b[0;34m\u001b[0m\u001b[0;34m\u001b[0m\u001b[0m\n\u001b[1;32m    356\u001b[0m         \u001b[0maliased_event_name\u001b[0m \u001b[0;34m=\u001b[0m \u001b[0mself\u001b[0m\u001b[0;34m.\u001b[0m\u001b[0m_alias_event_name\u001b[0m\u001b[0;34m(\u001b[0m\u001b[0mevent_name\u001b[0m\u001b[0;34m)\u001b[0m\u001b[0;34m\u001b[0m\u001b[0;34m\u001b[0m\u001b[0m\n\u001b[0;32m--> 357\u001b[0;31m         \u001b[0;32mreturn\u001b[0m \u001b[0mself\u001b[0m\u001b[0;34m.\u001b[0m\u001b[0m_emitter\u001b[0m\u001b[0;34m.\u001b[0m\u001b[0memit\u001b[0m\u001b[0;34m(\u001b[0m\u001b[0maliased_event_name\u001b[0m\u001b[0;34m,\u001b[0m \u001b[0;34m**\u001b[0m\u001b[0mkwargs\u001b[0m\u001b[0;34m)\u001b[0m\u001b[0;34m\u001b[0m\u001b[0;34m\u001b[0m\u001b[0m\n\u001b[0m\u001b[1;32m    358\u001b[0m \u001b[0;34m\u001b[0m\u001b[0m\n\u001b[1;32m    359\u001b[0m     \u001b[0;32mdef\u001b[0m \u001b[0memit_until_response\u001b[0m\u001b[0;34m(\u001b[0m\u001b[0mself\u001b[0m\u001b[0;34m,\u001b[0m \u001b[0mevent_name\u001b[0m\u001b[0;34m,\u001b[0m \u001b[0;34m**\u001b[0m\u001b[0mkwargs\u001b[0m\u001b[0;34m)\u001b[0m\u001b[0;34m:\u001b[0m\u001b[0;34m\u001b[0m\u001b[0;34m\u001b[0m\u001b[0m\n",
      "\u001b[0;32m~/opt/anaconda3/envs/mailout/lib/python3.7/site-packages/botocore/hooks.py\u001b[0m in \u001b[0;36memit\u001b[0;34m(self, event_name, **kwargs)\u001b[0m\n\u001b[1;32m    226\u001b[0m                  \u001b[0mhandlers\u001b[0m\u001b[0;34m.\u001b[0m\u001b[0;34m\u001b[0m\u001b[0;34m\u001b[0m\u001b[0m\n\u001b[1;32m    227\u001b[0m         \"\"\"\n\u001b[0;32m--> 228\u001b[0;31m         \u001b[0;32mreturn\u001b[0m \u001b[0mself\u001b[0m\u001b[0;34m.\u001b[0m\u001b[0m_emit\u001b[0m\u001b[0;34m(\u001b[0m\u001b[0mevent_name\u001b[0m\u001b[0;34m,\u001b[0m \u001b[0mkwargs\u001b[0m\u001b[0;34m)\u001b[0m\u001b[0;34m\u001b[0m\u001b[0;34m\u001b[0m\u001b[0m\n\u001b[0m\u001b[1;32m    229\u001b[0m \u001b[0;34m\u001b[0m\u001b[0m\n\u001b[1;32m    230\u001b[0m     \u001b[0;32mdef\u001b[0m \u001b[0memit_until_response\u001b[0m\u001b[0;34m(\u001b[0m\u001b[0mself\u001b[0m\u001b[0;34m,\u001b[0m \u001b[0mevent_name\u001b[0m\u001b[0;34m,\u001b[0m \u001b[0;34m**\u001b[0m\u001b[0mkwargs\u001b[0m\u001b[0;34m)\u001b[0m\u001b[0;34m:\u001b[0m\u001b[0;34m\u001b[0m\u001b[0;34m\u001b[0m\u001b[0m\n",
      "\u001b[0;32m~/opt/anaconda3/envs/mailout/lib/python3.7/site-packages/botocore/hooks.py\u001b[0m in \u001b[0;36m_emit\u001b[0;34m(self, event_name, kwargs, stop_on_response)\u001b[0m\n\u001b[1;32m    209\u001b[0m         \u001b[0;32mfor\u001b[0m \u001b[0mhandler\u001b[0m \u001b[0;32min\u001b[0m \u001b[0mhandlers_to_call\u001b[0m\u001b[0;34m:\u001b[0m\u001b[0;34m\u001b[0m\u001b[0;34m\u001b[0m\u001b[0m\n\u001b[1;32m    210\u001b[0m             \u001b[0mlogger\u001b[0m\u001b[0;34m.\u001b[0m\u001b[0mdebug\u001b[0m\u001b[0;34m(\u001b[0m\u001b[0;34m'Event %s: calling handler %s'\u001b[0m\u001b[0;34m,\u001b[0m \u001b[0mevent_name\u001b[0m\u001b[0;34m,\u001b[0m \u001b[0mhandler\u001b[0m\u001b[0;34m)\u001b[0m\u001b[0;34m\u001b[0m\u001b[0;34m\u001b[0m\u001b[0m\n\u001b[0;32m--> 211\u001b[0;31m             \u001b[0mresponse\u001b[0m \u001b[0;34m=\u001b[0m \u001b[0mhandler\u001b[0m\u001b[0;34m(\u001b[0m\u001b[0;34m**\u001b[0m\u001b[0mkwargs\u001b[0m\u001b[0;34m)\u001b[0m\u001b[0;34m\u001b[0m\u001b[0;34m\u001b[0m\u001b[0m\n\u001b[0m\u001b[1;32m    212\u001b[0m             \u001b[0mresponses\u001b[0m\u001b[0;34m.\u001b[0m\u001b[0mappend\u001b[0m\u001b[0;34m(\u001b[0m\u001b[0;34m(\u001b[0m\u001b[0mhandler\u001b[0m\u001b[0;34m,\u001b[0m \u001b[0mresponse\u001b[0m\u001b[0;34m)\u001b[0m\u001b[0;34m)\u001b[0m\u001b[0;34m\u001b[0m\u001b[0;34m\u001b[0m\u001b[0m\n\u001b[1;32m    213\u001b[0m             \u001b[0;32mif\u001b[0m \u001b[0mstop_on_response\u001b[0m \u001b[0;32mand\u001b[0m \u001b[0mresponse\u001b[0m \u001b[0;32mis\u001b[0m \u001b[0;32mnot\u001b[0m \u001b[0;32mNone\u001b[0m\u001b[0;34m:\u001b[0m\u001b[0;34m\u001b[0m\u001b[0;34m\u001b[0m\u001b[0m\n",
      "\u001b[0;32m~/opt/anaconda3/envs/mailout/lib/python3.7/site-packages/botocore/signers.py\u001b[0m in \u001b[0;36mhandler\u001b[0;34m(self, operation_name, request, **kwargs)\u001b[0m\n\u001b[1;32m     88\u001b[0m         \u001b[0;31m# this method is invoked to sign the request.\u001b[0m\u001b[0;34m\u001b[0m\u001b[0;34m\u001b[0m\u001b[0;34m\u001b[0m\u001b[0m\n\u001b[1;32m     89\u001b[0m         \u001b[0;31m# Don't call this method directly.\u001b[0m\u001b[0;34m\u001b[0m\u001b[0;34m\u001b[0m\u001b[0;34m\u001b[0m\u001b[0m\n\u001b[0;32m---> 90\u001b[0;31m         \u001b[0;32mreturn\u001b[0m \u001b[0mself\u001b[0m\u001b[0;34m.\u001b[0m\u001b[0msign\u001b[0m\u001b[0;34m(\u001b[0m\u001b[0moperation_name\u001b[0m\u001b[0;34m,\u001b[0m \u001b[0mrequest\u001b[0m\u001b[0;34m)\u001b[0m\u001b[0;34m\u001b[0m\u001b[0;34m\u001b[0m\u001b[0m\n\u001b[0m\u001b[1;32m     91\u001b[0m \u001b[0;34m\u001b[0m\u001b[0m\n\u001b[1;32m     92\u001b[0m     def sign(self, operation_name, request, region_name=None,\n",
      "\u001b[0;32m~/opt/anaconda3/envs/mailout/lib/python3.7/site-packages/botocore/signers.py\u001b[0m in \u001b[0;36msign\u001b[0;34m(self, operation_name, request, region_name, signing_type, expires_in, signing_name)\u001b[0m\n\u001b[1;32m    160\u001b[0m                     \u001b[0;32mraise\u001b[0m \u001b[0me\u001b[0m\u001b[0;34m\u001b[0m\u001b[0;34m\u001b[0m\u001b[0m\n\u001b[1;32m    161\u001b[0m \u001b[0;34m\u001b[0m\u001b[0m\n\u001b[0;32m--> 162\u001b[0;31m             \u001b[0mauth\u001b[0m\u001b[0;34m.\u001b[0m\u001b[0madd_auth\u001b[0m\u001b[0;34m(\u001b[0m\u001b[0mrequest\u001b[0m\u001b[0;34m)\u001b[0m\u001b[0;34m\u001b[0m\u001b[0;34m\u001b[0m\u001b[0m\n\u001b[0m\u001b[1;32m    163\u001b[0m \u001b[0;34m\u001b[0m\u001b[0m\n\u001b[1;32m    164\u001b[0m     \u001b[0;32mdef\u001b[0m \u001b[0m_choose_signer\u001b[0m\u001b[0;34m(\u001b[0m\u001b[0mself\u001b[0m\u001b[0;34m,\u001b[0m \u001b[0moperation_name\u001b[0m\u001b[0;34m,\u001b[0m \u001b[0msigning_type\u001b[0m\u001b[0;34m,\u001b[0m \u001b[0mcontext\u001b[0m\u001b[0;34m)\u001b[0m\u001b[0;34m:\u001b[0m\u001b[0;34m\u001b[0m\u001b[0;34m\u001b[0m\u001b[0m\n",
      "\u001b[0;32m~/opt/anaconda3/envs/mailout/lib/python3.7/site-packages/botocore/auth.py\u001b[0m in \u001b[0;36madd_auth\u001b[0;34m(self, request)\u001b[0m\n\u001b[1;32m    371\u001b[0m     \u001b[0;32mdef\u001b[0m \u001b[0madd_auth\u001b[0m\u001b[0;34m(\u001b[0m\u001b[0mself\u001b[0m\u001b[0;34m,\u001b[0m \u001b[0mrequest\u001b[0m\u001b[0;34m)\u001b[0m\u001b[0;34m:\u001b[0m\u001b[0;34m\u001b[0m\u001b[0;34m\u001b[0m\u001b[0m\n\u001b[1;32m    372\u001b[0m         \u001b[0;32mif\u001b[0m \u001b[0mself\u001b[0m\u001b[0;34m.\u001b[0m\u001b[0mcredentials\u001b[0m \u001b[0;32mis\u001b[0m \u001b[0;32mNone\u001b[0m\u001b[0;34m:\u001b[0m\u001b[0;34m\u001b[0m\u001b[0;34m\u001b[0m\u001b[0m\n\u001b[0;32m--> 373\u001b[0;31m             \u001b[0;32mraise\u001b[0m \u001b[0mNoCredentialsError\u001b[0m\u001b[0;34m(\u001b[0m\u001b[0;34m)\u001b[0m\u001b[0;34m\u001b[0m\u001b[0;34m\u001b[0m\u001b[0m\n\u001b[0m\u001b[1;32m    374\u001b[0m         \u001b[0mdatetime_now\u001b[0m \u001b[0;34m=\u001b[0m \u001b[0mdatetime\u001b[0m\u001b[0;34m.\u001b[0m\u001b[0mdatetime\u001b[0m\u001b[0;34m.\u001b[0m\u001b[0mutcnow\u001b[0m\u001b[0;34m(\u001b[0m\u001b[0;34m)\u001b[0m\u001b[0;34m\u001b[0m\u001b[0;34m\u001b[0m\u001b[0m\n\u001b[1;32m    375\u001b[0m         \u001b[0mrequest\u001b[0m\u001b[0;34m.\u001b[0m\u001b[0mcontext\u001b[0m\u001b[0;34m[\u001b[0m\u001b[0;34m'timestamp'\u001b[0m\u001b[0;34m]\u001b[0m \u001b[0;34m=\u001b[0m \u001b[0mdatetime_now\u001b[0m\u001b[0;34m.\u001b[0m\u001b[0mstrftime\u001b[0m\u001b[0;34m(\u001b[0m\u001b[0mSIGV4_TIMESTAMP\u001b[0m\u001b[0;34m)\u001b[0m\u001b[0;34m\u001b[0m\u001b[0;34m\u001b[0m\u001b[0m\n",
      "\u001b[0;31mNoCredentialsError\u001b[0m: Unable to locate credentials"
     ]
    }
   ],
   "source": [
    "# create sagemaker session\n",
    "sagemaker_session = sagemaker.Session()\n",
    "\n",
    "# assign sagemaker role\n",
    "# detect if notebook is running locally or in a cluster\n",
    "a=os.popen('hostname').read()\n",
    "if 'local' in a:\n",
    "    print('Notebook is running locally')\n",
    "    role = sagemaker_role \n",
    "else:\n",
    "    role = sagemaker.get_execution_role()\n",
    "    print('Notebook is running on a cluster')\n",
    "\n",
    "# set default bucket\n",
    "bucket = sagemaker_session.default_bucket()\n",
    "print('Bucket: {}'.format(bucket))\n",
    "\n",
    "region = sagemaker_session.boto_region_name\n",
    "print('Region: {}'.format(region))\n",
    "\n",
    "output_path = 's3://{}/{}/output'.format(bucket, prefix)\n",
    "print('S3 Output path: {}'.format(output_path))\n",
    "\n",
    "# pointers to location of training, validation and testing datasets\n",
    "s3_path_train = 's3://{}/{}/{}'.format(bucket, prefix, path_train[3:])\n",
    "print('S3 Training path: {}'.format(s3_path_train))\n",
    "\n",
    "s3_path_validation = 's3://{}/{}/{}'.format(bucket, prefix, path_validation[3:])\n",
    "print('S3 Validation path: {}'.format(s3_path_validation))\n",
    "\n",
    "s3_path_test = 's3://{}/{}/{}'.format(bucket, prefix, path_test[3:])\n",
    "print('S3 Testing path: {}'.format(s3_path_test))"
   ]
  },
  {
   "cell_type": "markdown",
   "metadata": {},
   "source": [
    "<a id='load_data'></a>\n",
    "# Step 2: Load data"
   ]
  },
  {
   "cell_type": "markdown",
   "metadata": {},
   "source": [
    "### Step 2.1 Load mailout training data"
   ]
  },
  {
   "cell_type": "code",
   "execution_count": null,
   "metadata": {
    "scrolled": true
   },
   "outputs": [],
   "source": [
    "path = \"{}/{}\".format(path_raw, filename_mailout_train)\n",
    "mailout_train, mailout_train_extended_na = get_data(path)\n",
    "print('Shape of mailout TEST: {}'.format(mailout_train.shape))"
   ]
  },
  {
   "cell_type": "code",
   "execution_count": null,
   "metadata": {
    "scrolled": false
   },
   "outputs": [],
   "source": [
    "mailout_train.head()"
   ]
  },
  {
   "cell_type": "markdown",
   "metadata": {},
   "source": [
    "### Step 2.2 Load mailout testing data\n",
    "Outcome of which cluster each customer belongs to, can be re-used during supervised prediction\n",
    "\n",
    "Further more, features dropped during clustering due it's absence in population data, might now be useful"
   ]
  },
  {
   "cell_type": "code",
   "execution_count": null,
   "metadata": {
    "scrolled": false
   },
   "outputs": [],
   "source": [
    "path = \"{}/{}\".format(path_raw, filename_mailout_test)\n",
    "mailout_test, mailout_test_extended_na = get_data(path)\n",
    "print('Shape of mailout TRAIN: {}'.format(mailout_test.shape))"
   ]
  },
  {
   "cell_type": "code",
   "execution_count": null,
   "metadata": {
    "scrolled": true
   },
   "outputs": [],
   "source": [
    "mailout_test.head()"
   ]
  },
  {
   "cell_type": "markdown",
   "metadata": {},
   "source": [
    "### Step 2.3 Load customer segmenationation results from PART 2\n",
    "Outcome of which cluster each customer belongs to, can be re-used during supervised prediction\n",
    "\n",
    "Further more, features dropped during clustering due it's absence in population data, might now be useful"
   ]
  },
  {
   "cell_type": "code",
   "execution_count": null,
   "metadata": {
    "scrolled": true
   },
   "outputs": [],
   "source": [
    "# Get customers clusters and pca features from step 2\n",
    "customer_clusters = pd.read_csv(filename_customer_clusters, index_col=0)\n",
    "print('Shape of mailout TRAIN: {}'.format(customer_clusters.shape))"
   ]
  },
  {
   "cell_type": "code",
   "execution_count": null,
   "metadata": {
    "scrolled": true
   },
   "outputs": [],
   "source": [
    "# compare to step 2, we don't want any rows dropped we expect 191652 rows\n",
    "customer_clusters.shape"
   ]
  },
  {
   "cell_type": "markdown",
   "metadata": {},
   "source": [
    "<a id='clean_data'></a>\n",
    "# Step 3: Clean Data"
   ]
  },
  {
   "cell_type": "markdown",
   "metadata": {},
   "source": [
    "### Step 3.1 Clean training and testing dataset using standard cleaning function"
   ]
  },
  {
   "cell_type": "code",
   "execution_count": null,
   "metadata": {
    "scrolled": true
   },
   "outputs": [],
   "source": [
    "# keep a copy of the raw data before we change it\n",
    "mailout_train_raw = mailout_train.copy()"
   ]
  },
  {
   "cell_type": "code",
   "execution_count": null,
   "metadata": {
    "scrolled": false
   },
   "outputs": [],
   "source": [
    "# seperate data and labels\n",
    "mailout_train_response = pd.DataFrame(mailout_train['RESPONSE'], \n",
    "                                      columns=['RESPONSE'])\n",
    "mailout_train.drop('RESPONSE', axis=1, inplace=True, errors='ignore')\n",
    "mailout_train_response.head()"
   ]
  },
  {
   "cell_type": "code",
   "execution_count": null,
   "metadata": {
    "scrolled": true
   },
   "outputs": [],
   "source": [
    "mailout_train_cleaned = clean(mailout_train.copy(), \n",
    "                              mailout_train_extended_na, \n",
    "                              rows_threshold=1, \n",
    "                              impute=True,\n",
    "                              kind='supervised')"
   ]
  },
  {
   "cell_type": "code",
   "execution_count": null,
   "metadata": {
    "scrolled": false
   },
   "outputs": [],
   "source": [
    "mailout_train_cleaned.info()"
   ]
  },
  {
   "cell_type": "markdown",
   "metadata": {},
   "source": [
    "### Step 3.2 Clean testing dataset using standard cleaning function"
   ]
  },
  {
   "cell_type": "code",
   "execution_count": null,
   "metadata": {
    "scrolled": false
   },
   "outputs": [],
   "source": [
    "# for the final submission to kaggle, do not drop any rows as all rows required by Kaggle\n",
    "mailout_test_cleaned = clean(mailout_test.copy(), \n",
    "                             mailout_test_extended_na, \n",
    "                             rows_threshold=1, \n",
    "                             impute=True,\n",
    "                             kind='supervised')"
   ]
  },
  {
   "cell_type": "code",
   "execution_count": null,
   "metadata": {
    "scrolled": false
   },
   "outputs": [],
   "source": [
    "mailout_test_cleaned.info()"
   ]
  },
  {
   "cell_type": "markdown",
   "metadata": {},
   "source": [
    "### Step 3.3 - Scale\n",
    "A scalar was build using the full population dataset excluding all missing values\n",
    "This helps to better generalize the data to unseen data during testing"
   ]
  },
  {
   "cell_type": "code",
   "execution_count": null,
   "metadata": {
    "scrolled": true
   },
   "outputs": [],
   "source": [
    "# Load the pre-trained scalar \n",
    "scaler = load(open(filename_scaler_supervised, 'rb'))"
   ]
  },
  {
   "cell_type": "code",
   "execution_count": null,
   "metadata": {
    "scrolled": true
   },
   "outputs": [],
   "source": [
    "# Correct TRAINING dataset\n",
    "# check if there are any columns missing in customers dataset due to ohn. \n",
    "# MinMax scaling requires in latest version the same number of features in the same order\n",
    "cols = list(set(scaler.feature_names_in_) - set(mailout_train_cleaned.columns))  \n",
    "scaler_features = list(scaler.feature_names_in_)\n",
    "for col in cols:\n",
    "    print('Column corrected: {}'.format(col))\n",
    "    loc =  scaler_features.index(col)\n",
    "    mailout_train_cleaned.insert(loc, column=col, value=0)   "
   ]
  },
  {
   "cell_type": "code",
   "execution_count": null,
   "metadata": {
    "scrolled": true
   },
   "outputs": [],
   "source": [
    "# Correct TESTING dataset\n",
    "# check if there are any columns missing in customers dataset due to ohn. \n",
    "# MinMax scaling requires in latest version the same number of features in the same order\n",
    "cols = list(set(scaler.feature_names_in_) - set(mailout_test_cleaned.columns))  \n",
    "scaler_features = list(scaler.feature_names_in_)\n",
    "for col in cols:\n",
    "    print('Column corrected: {}'.format(col))\n",
    "    loc =  scaler_features.index(col)\n",
    "    mailout_test_cleaned.insert(loc, column=col, value=0)   "
   ]
  },
  {
   "cell_type": "code",
   "execution_count": null,
   "metadata": {
    "scrolled": false
   },
   "outputs": [],
   "source": [
    "# Scale training data\n",
    "scaled_mailout_train = scaler.transform(mailout_train_cleaned.copy())\n",
    "\n",
    "\n",
    "# Rebuild dataframe\n",
    "df_scaled_mailout_train = pd.DataFrame(scaled_mailout_train, \n",
    "                                       columns=mailout_train_cleaned.columns, \n",
    "                                       index=mailout_train_cleaned.index)\n",
    "\n",
    "df_scaled_mailout_train.head()"
   ]
  },
  {
   "cell_type": "code",
   "execution_count": null,
   "metadata": {
    "scrolled": false
   },
   "outputs": [],
   "source": [
    "# Scale testing data\n",
    "scaled_mailout_test = scaler.transform(mailout_test_cleaned.copy())\n",
    "\n",
    "# Rebuild dataframe\n",
    "df_scaled_mailout_test = pd.DataFrame(scaled_mailout_test, \n",
    "                                    columns=mailout_test_cleaned.columns, \n",
    "                                    index=mailout_test_cleaned.index).round(4)\n",
    "df_scaled_mailout_test.head()"
   ]
  },
  {
   "cell_type": "code",
   "execution_count": null,
   "metadata": {
    "scrolled": true
   },
   "outputs": [],
   "source": [
    "# include clustering results and additional customer data\n",
    "\n",
    "col = ['CLUSTER', 'ONLINE_PURCHASE', 'PRODUCT_GROUP']\n",
    "\n",
    "df_cluster_label_scaled = customer_clusters[col].copy()\n",
    "df_cluster_label_scaled = ohn(df_cluster_label_scaled, ['CLUSTER', 'PRODUCT_GROUP']) \n",
    "\n",
    "df_cluster_label_scaled.head()"
   ]
  },
  {
   "cell_type": "markdown",
   "metadata": {},
   "source": [
    "### Step 3.4 - Merge clustering and mailout data"
   ]
  },
  {
   "cell_type": "code",
   "execution_count": null,
   "metadata": {
    "scrolled": true
   },
   "outputs": [],
   "source": [
    "# keep mailout columns with only selected fields from clustering\n",
    "def clustering_merge(df1, df2, join_type='left'):\n",
    "    mailout_enriched = df1.merge(df2, how=join_type, left_index=True, right_index=True, indicator=True)\n",
    "    if (mailout_enriched['_merge'] != 'both').sum() > 0:\n",
    "        print('Error something went wrong - not all customers have clusters ?')\n",
    "        mailout_enriched.drop(['_merge'], inplace=True, axis=1)\n",
    "    else:\n",
    "        mailout_enriched.drop(['_merge'], inplace=True, axis=1)   \n",
    "           \n",
    "    return mailout_enriched"
   ]
  },
  {
   "cell_type": "code",
   "execution_count": null,
   "metadata": {
    "scrolled": true
   },
   "outputs": [],
   "source": [
    "# # keep only pca and cluster columns but filter on index\n",
    "# def clustering_filter(df1, df2, join_type='left'):\n",
    "#     mailout_enriched = df1.merge(df2, how=join_type, left_index=True, right_index=True, indicator=True)\n",
    "#     mailout_enriched = mailout_enriched[mailout_enriched['_merge'] == 'both'].iloc[:,:df1.shape[1]]            \n",
    "#     return mailout_enriched"
   ]
  },
  {
   "cell_type": "code",
   "execution_count": null,
   "metadata": {
    "scrolled": true
   },
   "outputs": [],
   "source": [
    "# # use pca fields\n",
    "# df_scaled_mailout_train_enriched = clustering_filter(customer_clusters, \n",
    "#                                                     df_scaled_mailout_train, \n",
    "#                                                     join_type=\"left\")\n",
    "\n",
    "\n",
    "# df_scaled_mailout_train_enriched = ohn(df_scaled_mailout_train_enriched, ['CLUSTER']) \n",
    "\n",
    "# print('Shape of mailout dataset {} vs PCA dataset {}'.format(df_scaled_mailout_train.shape, \n",
    "#                                                              df_scaled_mailout_train_enriched.shape))\n",
    "# df_scaled_mailout_train_enriched.sort_index().head()"
   ]
  },
  {
   "cell_type": "code",
   "execution_count": null,
   "metadata": {
    "scrolled": true
   },
   "outputs": [],
   "source": [
    "# df_scaled_mailout_test_enriched = clustering_filter(customer_clusters, \n",
    "#                                                     df_scaled_mailout_test, \n",
    "#                                                     join_type=\"left\")\n",
    "# print('Shape of mailout dataset {} vs PCA dataset {}'.format(df_scaled_mailout_test.shape, \n",
    "#                                                              df_scaled_mailout_test_enriched.shape))\n",
    "# df_scaled_mailout_test_enriched.sort_index().head()"
   ]
  },
  {
   "cell_type": "code",
   "execution_count": null,
   "metadata": {
    "scrolled": true
   },
   "outputs": [],
   "source": [
    "df_scaled_mailout_train_enriched = clustering_merge(df_scaled_mailout_train, df_cluster_label_scaled)\n",
    "df_scaled_mailout_train_enriched.head()"
   ]
  },
  {
   "cell_type": "code",
   "execution_count": null,
   "metadata": {},
   "outputs": [],
   "source": [
    "df_scaled_mailout_train.shape"
   ]
  },
  {
   "cell_type": "code",
   "execution_count": null,
   "metadata": {
    "scrolled": true
   },
   "outputs": [],
   "source": [
    "df_scaled_mailout_test_enriched = clustering_merge(df_scaled_mailout_test, df_cluster_label_scaled)\n",
    "df_scaled_mailout_test_enriched.head()"
   ]
  },
  {
   "cell_type": "markdown",
   "metadata": {},
   "source": [
    "### Step 3.5 - Any final columns to drop ?"
   ]
  },
  {
   "cell_type": "code",
   "execution_count": null,
   "metadata": {
    "scrolled": true
   },
   "outputs": [],
   "source": [
    "columns_to_drop = []\n",
    "columns_to_drop"
   ]
  },
  {
   "cell_type": "code",
   "execution_count": null,
   "metadata": {
    "scrolled": true
   },
   "outputs": [],
   "source": [
    "print('Before: {}'.format(df_scaled_mailout_train_enriched.shape))\n",
    "df_scaled_mailout_train_enriched.drop(columns_to_drop, inplace=True, axis=1, errors='ignore')\n",
    "print('After: {}'.format(df_scaled_mailout_train_enriched.shape))"
   ]
  },
  {
   "cell_type": "code",
   "execution_count": null,
   "metadata": {
    "scrolled": true
   },
   "outputs": [],
   "source": [
    "print('Before: {}'.format(df_scaled_mailout_test_enriched.shape))\n",
    "df_scaled_mailout_test_enriched.drop(columns_to_drop, inplace=True, axis=1, errors='ignore')\n",
    "print('After: {}'.format(df_scaled_mailout_test_enriched.shape))"
   ]
  },
  {
   "cell_type": "markdown",
   "metadata": {},
   "source": [
    "### Step 3.6 - Final Data Explorations"
   ]
  },
  {
   "cell_type": "markdown",
   "metadata": {},
   "source": [
    "###### Do we see a pattern if mainly individuals from certain clusters respond ?"
   ]
  },
  {
   "cell_type": "code",
   "execution_count": null,
   "metadata": {
    "scrolled": true
   },
   "outputs": [],
   "source": [
    "cluster_label = customer_clusters[['CLUSTER']].copy()\n",
    "response_clusters = mailout_train_response.merge(cluster_label, how='left', left_index=True, right_index=True)\n",
    "response_clusters['CLUSTER'].value_counts()\n",
    "\n",
    "fig, ax = plt.subplots(figsize=(16,4))\n",
    "plt.yscale('log')\n",
    "sns.countplot(x='CLUSTER', data=response_clusters, ax=ax, hue='RESPONSE')  \n",
    "plt.show()"
   ]
  },
  {
   "cell_type": "code",
   "execution_count": null,
   "metadata": {},
   "outputs": [],
   "source": [
    "response_clusters "
   ]
  },
  {
   "cell_type": "markdown",
   "metadata": {},
   "source": [
    "**Conclusion:** \n",
    "When combining clustering with the mail-out campaign results from the provided training dataset, we can observe that no individuals from cluster 7 responded to the campaign, and the most individuals from cluster 0 and 6 responded. This fits with our previous analysis where cluster 7 where the most under represented and cluster 0 where the most over represented."
   ]
  },
  {
   "cell_type": "markdown",
   "metadata": {},
   "source": [
    "<a id='data_preparation'></a>\n",
    "# Step 4: Model data preparation"
   ]
  },
  {
   "cell_type": "code",
   "execution_count": null,
   "metadata": {
    "scrolled": true
   },
   "outputs": [],
   "source": [
    "# sort datasets\n",
    "df_scaled_mailout_train_enriched.sort_index(inplace=True)\n",
    "mailout_train_response.sort_index(inplace=True)"
   ]
  },
  {
   "cell_type": "code",
   "execution_count": null,
   "metadata": {},
   "outputs": [],
   "source": [
    "# Analyzing the rows we are dropping"
   ]
  },
  {
   "cell_type": "code",
   "execution_count": null,
   "metadata": {
    "scrolled": true
   },
   "outputs": [],
   "source": [
    "mailout_train_response.shape"
   ]
  },
  {
   "cell_type": "code",
   "execution_count": null,
   "metadata": {
    "scrolled": true
   },
   "outputs": [],
   "source": [
    "df_scaled_mailout_train_enriched.shape"
   ]
  },
  {
   "cell_type": "code",
   "execution_count": null,
   "metadata": {
    "scrolled": true
   },
   "outputs": [],
   "source": [
    "# get responses for those records we intent to drop\n",
    "test_drop = mailout_train_response[~mailout_train_response.index.isin(df_scaled_mailout_train_enriched.index)]\n",
    "test_drop = test_drop[test_drop['RESPONSE'] == 1]\n",
    "test_drop.shape"
   ]
  },
  {
   "cell_type": "code",
   "execution_count": null,
   "metadata": {
    "scrolled": true
   },
   "outputs": [],
   "source": [
    "test_nodrop = mailout_train_response[~mailout_train_response.index.isin(df_scaled_mailout_train_enriched.index)]\n",
    "# test_nodrop = test_nodrop[test_nodrop['RESPONSE'] == 1]\n",
    "test_nodrop.shape"
   ]
  },
  {
   "cell_type": "code",
   "execution_count": null,
   "metadata": {
    "scrolled": true
   },
   "outputs": [],
   "source": [
    "final_nodrop = mailout_train_raw[mailout_train_raw.index.isin(test_nodrop.index)]\n",
    "final_nodrop.describe()"
   ]
  },
  {
   "cell_type": "code",
   "execution_count": null,
   "metadata": {
    "scrolled": true
   },
   "outputs": [],
   "source": [
    "final_drop = mailout_train_raw[mailout_train_raw.index.isin(test_drop.index)]\n",
    "final_drop"
   ]
  },
  {
   "cell_type": "code",
   "execution_count": null,
   "metadata": {
    "scrolled": false
   },
   "outputs": [],
   "source": [
    "# filter response dataset with rows we dropped\n",
    "mailout_train_response = mailout_train_response[mailout_train_response.index.isin(df_scaled_mailout_train_enriched.index)]\n",
    "\n",
    "# Define the resampling method\n",
    "# resample = SMOTE(k_neighbors=50, random_state=random_state, n_jobs=-1)\n",
    "# resample = ADASYN(n_neighbors=50, random_state=random_state, n_jobs=-1)\n",
    "resample = RandomOverSampler(sampling_strategy='minority', random_state=random_state)\n",
    "\n",
    "# Split the 'features' and 'income' data into training and valiation datasets\n",
    "X_train, X_validate, y_train, y_validate = train_test_split(df_scaled_mailout_train_enriched, \n",
    "                                                    mailout_train_response,\n",
    "                                                    stratify=mailout_train_response['RESPONSE'],\n",
    "                                                    test_size = 0.3, \n",
    "                                                    random_state = random_state)\n",
    "\n",
    "X_resampled, y_resampled = resample.fit_resample(X_train, y_train)\n",
    "\n",
    "# Show the results of the split\n",
    "print(\"Training dataset has {} samples.\".format(X_train.shape[0]))\n",
    "print(\"Validation dataset has {} samples.\".format(X_validate.shape[0]))\n",
    "print(\"Resampled Training dataset has {} samples.\".format(X_resampled.shape[0]))"
   ]
  },
  {
   "cell_type": "code",
   "execution_count": null,
   "metadata": {
    "scrolled": false
   },
   "outputs": [],
   "source": [
    "# Count the occurrences of responded vs not responded in the training dataset\n",
    "occ = y_train['RESPONSE'].value_counts()\n",
    "print(occ)\n",
    "\n",
    "# Print the ratio of fraud cases\n",
    "print(occ / len(y_train.index))"
   ]
  },
  {
   "cell_type": "code",
   "execution_count": null,
   "metadata": {
    "scrolled": true
   },
   "outputs": [],
   "source": [
    "# ratio of negative responses / positive responses\n",
    "scale_pos_weight = occ[0]/occ[1]\n",
    "scale_pos_weight"
   ]
  },
  {
   "cell_type": "code",
   "execution_count": null,
   "metadata": {
    "scrolled": false
   },
   "outputs": [],
   "source": [
    "# Count the occurrences of responded vs not responded in the training dataset\n",
    "occ = y_validate['RESPONSE'].value_counts()\n",
    "print(occ)\n",
    "\n",
    "# Print the ratio of fraud cases\n",
    "print(occ / len(y_validate.index))"
   ]
  },
  {
   "cell_type": "code",
   "execution_count": null,
   "metadata": {
    "scrolled": false
   },
   "outputs": [],
   "source": [
    "# Count the occurrences of responded vs not responded in the RESAMPLED training dataset\n",
    "occ = y_resampled['RESPONSE'].value_counts()\n",
    "print(occ)\n",
    "\n",
    "# Print the ratio of fraud cases\n",
    "print(occ / len(y_resampled.index))"
   ]
  },
  {
   "cell_type": "markdown",
   "metadata": {},
   "source": [
    "---\n",
    "## Save training and testing data in S3\n",
    "\n",
    "Now, we are almost ready to move on to training a model in SageMaker!\n",
    "\n",
    "We want to access the train and test data in SageMaker and upload it to S3. In this project, SageMaker will expect the following format for your train/test data:\n",
    "* Training and test data should be saved in one `.csv` file each, ex `train.csv` and `test.csv`\n",
    "* These files should have class  labels in the first column and features in the rest of the columns\n",
    "\n",
    "This format follows the practice, outlined in the [SageMaker documentation](https://docs.aws.amazon.com/sagemaker/latest/dg/cdf-training.html), which reads: \"Amazon SageMaker requires that a CSV file doesn't have a header record and that the target variable [class label] is in the first column.\"\n",
    "\n",
    "### Create csv files\n"
   ]
  },
  {
   "cell_type": "code",
   "execution_count": null,
   "metadata": {
    "scrolled": false
   },
   "outputs": [],
   "source": [
    "train_location, df = make_train_csv(x=X_resampled.copy(), \n",
    "                                    y=y_resampled.copy(), \n",
    "                                    prefix=prefix, \n",
    "                                    local_path=path_train, \n",
    "                                    filename=filename_train_csv,\n",
    "                                    sagemaker_session=sagemaker_session,\n",
    "                                    bucket=bucket)\n",
    "df.head()"
   ]
  },
  {
   "cell_type": "code",
   "execution_count": null,
   "metadata": {
    "scrolled": false
   },
   "outputs": [],
   "source": [
    "validation_location, df = make_train_csv(x=X_validate.copy(), \n",
    "                                         y=y_validate.copy(), \n",
    "                                         prefix=prefix, \n",
    "                                         local_path=path_validation, \n",
    "                                         filename=filename_validation_csv,\n",
    "                                         sagemaker_session=sagemaker_session,\n",
    "                                         bucket=bucket)                                         \n",
    "df.head()"
   ]
  },
  {
   "cell_type": "code",
   "execution_count": null,
   "metadata": {
    "scrolled": false
   },
   "outputs": [],
   "source": [
    "test_location = make_test_csv(x=X_validate, \n",
    "                              prefix=prefix, \n",
    "                              local_path=path_validation_test, \n",
    "                              filename=filename_test_csv,\n",
    "                              sagemaker_session=sagemaker_session,\n",
    "                              bucket=bucket)\n",
    "\n",
    "test_location"
   ]
  },
  {
   "cell_type": "code",
   "execution_count": null,
   "metadata": {
    "scrolled": true
   },
   "outputs": [],
   "source": [
    "# create a feature map for feature importance analysis\n",
    "feature_names = list(X_validate.columns)\n",
    "create_feature_map(feature_names)"
   ]
  },
  {
   "cell_type": "markdown",
   "metadata": {},
   "source": [
    "<a id='baseline'></a>\n",
    "# Step 5: Setting a baseline\n",
    "\n",
    "\n",
    "As benchmark Sklear algorithms have been chosen which solve binary classification problems. Decision trees are easy to understand, train fast, but can easily overtrain. It fits well to the large dataset full of mostly categorical and ordinal features.\n",
    "\n",
    "DecisionTreeClassifier, AdaBoostClassifier and XGBClassier was selected\n"
   ]
  },
  {
   "cell_type": "code",
   "execution_count": null,
   "metadata": {
    "scrolled": true
   },
   "outputs": [],
   "source": [
    "# Initialize sklearn models\n",
    "\n",
    "clf_A = DecisionTreeClassifier(random_state=random_state)\n",
    "\n",
    "\n",
    "dt = DecisionTreeClassifier(max_depth=3, min_samples_split=5, min_samples_leaf=5, class_weight='balanced')\n",
    "clf_C = AdaBoostClassifier(clf_A,\n",
    "                           n_estimators=100, \n",
    "                           random_state=random_state)\n",
    "\n",
    "param = {\n",
    "         'objective': 'binary:logistic',\n",
    "         'eval_metric': 'auc',\n",
    "         'n_estimators': 100,\n",
    "         'random_state': random_state\n",
    "}\n",
    "\n",
    "clf_D = xgb.XGBClassifier(use_label_encoder=False)\n",
    "clf_D.set_params(**param)\n",
    "\n",
    "\n",
    "# Collect results on the learners\n",
    "results = {}\n",
    "\n",
    "for clf in [clf_A, clf_C, clf_D]:\n",
    "    clf_name = clf.__class__.__name__\n",
    "    results[clf_name] = {}\n",
    "    results[clf_name] = train_predict(clf, \n",
    "                                      X_resampled, np.array(y_resampled).reshape(len(y_resampled)), \n",
    "                                      X_validate, np.array(y_validate).reshape(len(y_validate)))"
   ]
  },
  {
   "cell_type": "code",
   "execution_count": null,
   "metadata": {
    "scrolled": true
   },
   "outputs": [],
   "source": [
    "df = pd.DataFrame(results) \n",
    "color = ['#A00000','#00A0A0','#00A000']\n",
    "figsize = (10,6)\n",
    "\n",
    "df.loc[['train_time', 'pred_time']].plot(kind='bar',\n",
    "                                         figsize=figsize,\n",
    "                                         color=color,\n",
    "                                         title='Training time')\n",
    "           \n",
    "df.loc[['acc_train', 'acc_test']].plot(kind='bar',\n",
    "                           figsize=figsize,\n",
    "                           color=color,\n",
    "                           title='Accuracy')\n",
    "\n",
    "df.loc[['auc_train', 'auc_test']].plot(kind='bar',\n",
    "                           figsize=figsize,\n",
    "                           color=color,\n",
    "                           title='AUC')"
   ]
  },
  {
   "cell_type": "code",
   "execution_count": null,
   "metadata": {},
   "outputs": [],
   "source": [
    "results"
   ]
  },
  {
   "cell_type": "markdown",
   "metadata": {},
   "source": [
    "Without any hyper parameter tuning, we can see that XGBClassier performed better with 64% AUC on the validation dataset of 64%, which I will use as a benchmark.\n",
    "We can also observe the AUC on the training dataset is 100% on all 3 algorithms, which indicates that the model is overfitting. Decision trees tends too easily overfit, we will have to constrain them using L1 and L2 regulation, tree depth and child_weight especially.\n",
    "\n",
    "Below are the first attempt to observe the behaviour of XGBoost with manual parameter tuning, in order to set a good base and ranges for sagemaker's hyperparamater tuning in the next step"
   ]
  },
  {
   "cell_type": "code",
   "execution_count": null,
   "metadata": {
    "scrolled": true
   },
   "outputs": [],
   "source": [
    "# load training and testing files from locally stored csv fiels and store in DMatrix format\n",
    "# label_column specifies the index of the column containing the true label\n",
    "dtrain = xgb.DMatrix(os.path.join(path_train, 'train.csv?format=csv&label_column=0'))\n",
    "dtest = xgb.DMatrix(os.path.join(path_validation, 'validation.csv?format=csv&label_column=0'))"
   ]
  },
  {
   "cell_type": "code",
   "execution_count": null,
   "metadata": {},
   "outputs": [],
   "source": [
    "# set weight of all features to 0.5\n",
    "# fw = np.full(shape=X_validate.shape[1], fill_value=0.5)\n",
    "# fw"
   ]
  },
  {
   "cell_type": "code",
   "execution_count": null,
   "metadata": {},
   "outputs": [],
   "source": [
    "# set weight of class features to 1\n",
    "# cols = list(X_validate.columns)\n",
    "# cols_start = cols.index('CLUSTER_0')\n",
    "# cols_end = cols_start + 7\n",
    "# fw[cols_start:cols_end] = 2\n",
    "# fw"
   ]
  },
  {
   "cell_type": "code",
   "execution_count": null,
   "metadata": {
    "scrolled": true
   },
   "outputs": [],
   "source": [
    "# hyper parameters to play around with\n",
    "param = {\n",
    "         'max_depth': 3, \n",
    "         'eta': 0.01,       \n",
    "         'alpha': 320, # L1 regularization parameter\n",
    "         'gamma': 10, \n",
    "         'min_child_weight': 10,\n",
    "         'objective': 'binary:logistic',\n",
    "         'eval_metric': 'auc',\n",
    "#        'scale_pos_weight': scale_pos_weight,\n",
    "         'max_delta_step': 10,   \n",
    "         'lambda': 10, # L2 regularization\n",
    "         \"min_child_weight\": 10,\n",
    "         \"subsample\": 0.80,\n",
    "         \"seed\": random_state,\n",
    "         \"booster\": \"gbtree\",\n",
    "         \"tree_method\": 'exact', \n",
    "         \"colsample_bytree\": 0.7,\n",
    "}\n",
    "\n",
    "dtrain.set_info(feature_weights=fw)\n",
    "\n",
    "evallist = [(dtest, 'eval'), (dtrain, 'train')]\n",
    "\n",
    "num_round = 500\n",
    "\n",
    "bst = xgb.train(param, dtrain, num_round, evallist, early_stopping_rounds=50)\n",
    "ypred = bst.predict(dtest)"
   ]
  },
  {
   "cell_type": "code",
   "execution_count": null,
   "metadata": {
    "scrolled": true
   },
   "outputs": [],
   "source": [
    "print('\\nAUC: {}'.format(roc_auc_score(y_validate, ypred)))"
   ]
  },
  {
   "cell_type": "markdown",
   "metadata": {},
   "source": [
    "<a id='training'></a>\n",
    "# Step 6: Hyper Parameter XGBoost Training Sagemaker\n",
    "\n",
    "\n",
    "Gradient boosting involves creating and adding trees to the model sequentially.\n",
    "\n",
    "New trees are created to correct the residual errors in the predictions from the existing sequence of trees.\n",
    "The effect is that the model can quickly fit, then overfit.\n",
    "\n",
    "The hyperparameters that have the greatest effect on optimizing the XGBoost evaluation metrics are: \n",
    "- alpha, min_child_weight, subsample, eta, and num_round.\n",
    "\n",
    "A technique to slow down the learning in the gradient boosting model is to apply a weighting factor for the corrections by new trees when added to the model. This weighting is called the shrinkage factor or the learning rate, depending on the literature or the tool.\n",
    "\n",
    "Description of some parameters:\n",
    "- alpha:L1 regularization parameter increasing this value makes model more conservative [0-1]\n",
    "- lambda: L2 regularization parameter increasing this value makes model more conservative \n",
    "- booster: btree, gblinear, or dart\n",
    "- eta: learning rate, parameter can be set to control the weighting of new trees added to the model. Smaller numbers avoid overfitting but then we need more trees/estimators  \n",
    "- gamma: Minimum loss reduction required to make a further partition on a leaf node of the tree. The larger, the more conservative the algorithm is."
   ]
  },
  {
   "cell_type": "code",
   "execution_count": null,
   "metadata": {},
   "outputs": [],
   "source": []
  },
  {
   "cell_type": "code",
   "execution_count": null,
   "metadata": {
    "scrolled": false
   },
   "outputs": [],
   "source": [
    "# initialize hyperparameters\n",
    "hyperparameters = {\n",
    "        \"max_depth\": 3,\n",
    "        \"eta\": 0.01,   # learning rate                        \n",
    "        \"alpha\": 340.91493342423814, # L1 regularization parameter\n",
    "        \"lambda\": 12.053141402482922, # L2 regularization parameter\n",
    "        \"gamma\": 16.140943570479283, \n",
    "        \"min_child_weight\": 15.036120500554022,\n",
    "        \"subsample\": 0.8298039038786528,\n",
    "        \"objective\": \"binary:logistic\",\n",
    "        \"early_stopping_rounds\": 500,\n",
    "        \"num_round\": 5000,\n",
    "        \"verbosity\": 3,\n",
    "        \"seed\": random_state,\n",
    "        \"booster\": \"gbtree\",\n",
    "        \"tree_method\": 'exact', \n",
    "        \"max_delta_step\": 10.67483920812812,\n",
    "        \"colsample_bytree\": 0.8, \n",
    "            }\n",
    "       \n",
    "# generate diagnostics report\n",
    "rules=[\n",
    "    Rule.sagemaker(rule_configs.create_xgboost_report())\n",
    "]\n",
    "\n",
    "# create diagnostics report\n",
    "save_interval = 30\n",
    "\n",
    "# this line automatically looks for the XGBoost image URI and builds an XGBoost container.\n",
    "# specify the repo_version depending on your preference.\n",
    "xgboost_container = sagemaker.image_uris.retrieve(\"xgboost\", region, \"1.3-1\")\n",
    "\n",
    "# construct a SageMaker estimator that calls the xgboost-container\n",
    "xgb_model = sagemaker.estimator.Estimator(image_uri=xgboost_container, \n",
    "                                          hyperparameters=hyperparameters,\n",
    "                                          role=role,\n",
    "                                          instance_count=1, \n",
    "                                          instance_type='ml.m5.2xlarge', \n",
    "                                          volume_size=100, # GB size\n",
    "                                          output_path=output_path,\n",
    "#                                           enable_categorical=True, \n",
    "                                          use_label_encoder=False, \n",
    "#                                           base_job_name=\"debugger-xgboost-report-demo\",\n",
    "                                          rules=rules,\n",
    "                                         )\n"
   ]
  },
  {
   "cell_type": "code",
   "execution_count": null,
   "metadata": {
    "scrolled": false
   },
   "outputs": [],
   "source": [
    "# Set hyperparameter ranges\n",
    "hyperparameter_ranges = {\n",
    "                        'eta': ContinuousParameter(0.1, 0.2),  \n",
    "                        'min_child_weight': ContinuousParameter(8,20),\n",
    "                        'max_depth': IntegerParameter(1, 3),\n",
    "                        'alpha': ContinuousParameter(300, 400), \n",
    "                        'lambda': ContinuousParameter(8, 40), # L2\n",
    "                        'gamma':ContinuousParameter(10, 40),  \n",
    "                        'max_delta_step': ContinuousParameter(8, 20), \n",
    "                        'colsample_bytree': ContinuousParameter(0.6, 0.8),\n",
    "                        }\n",
    "\n",
    "# set the metric\n",
    "objective_metric_name = 'validation:auc'\n",
    "\n",
    "# Define hyper parameter job\n",
    "xgb_hyperparameter_tuner = HyperparameterTuner(estimator=xgb_model,\n",
    "                                               objective_metric_name=objective_metric_name,\n",
    "                                               objective_type='Maximize',\n",
    "                                               hyperparameter_ranges=hyperparameter_ranges,\n",
    "                                               max_jobs = 40,\n",
    "                                               max_parallel_jobs = 5,\n",
    "                                               early_stopping_type = 'Auto')"
   ]
  },
  {
   "cell_type": "code",
   "execution_count": null,
   "metadata": {
    "scrolled": true
   },
   "outputs": [],
   "source": [
    "# Re-use learning from previous jobs\n",
    "parent_tuning_job_name = {'sagemaker-xgboost-211213-1832', \n",
    "                          'sagemaker-xgboost-211214-0621', \n",
    "                          'sagemaker-xgboost-211214-0803'}\n",
    "\n",
    "# warm_start_config = WarmStartConfig(\n",
    "#     WarmStartTypes.IDENTICAL_DATA_AND_ALGORITHM, parents=parent_tuning_job_name)\n",
    "\n",
    "warm_start_config = WarmStartConfig(\n",
    "    WarmStartTypes.TRANSFER_LEARNING, parents=parent_tuning_job_name)\n",
    "\n",
    "xgb_hyperparameter_tuner = HyperparameterTuner(\n",
    "    estimator=xgb_model,\n",
    "    objective_metric_name=objective_metric_name,\n",
    "    hyperparameter_ranges=hyperparameter_ranges,\n",
    "    objective_type=\"Maximize\",\n",
    "    max_jobs=100,\n",
    "    max_parallel_jobs=5,\n",
    "#     base_tuning_job_name=\"warmstart\",\n",
    "    warm_start_config=warm_start_config,\n",
    "    early_stopping_type = 'Auto'\n",
    ")"
   ]
  },
  {
   "cell_type": "code",
   "execution_count": null,
   "metadata": {
    "scrolled": false
   },
   "outputs": [],
   "source": [
    "# define the data type and paths to the training and validation datasets in S3\n",
    "# content_type = \"application/x-parquet\"\n",
    "content_type = \"text/csv\"\n",
    "train_input = TrainingInput(train_location, content_type=content_type, )\n",
    "validation_input = TrainingInput(validation_location, content_type=content_type)\n",
    "\n",
    "# execute the XGBoost training job\n",
    "# xgb_model.fit({\"train\": train_input, \"validation\": validation_input}, wait=False)\n",
    "\n",
    "# execute the XGBoost hyper paramater tuning job\n",
    "xgb_hyperparameter_tuner.fit({\"train\": train_input, \"validation\": validation_input}, wait=True)"
   ]
  },
  {
   "cell_type": "code",
   "execution_count": null,
   "metadata": {
    "scrolled": false
   },
   "outputs": [],
   "source": [
    "# tuning_job_name = xgb_hyperparameter_tuner.latest_tuning_job.job_name\n",
    "# best_training_job = xgb_hyperparameter_tuner.best_training_job()\n",
    "\n",
    "# to kick off an individual job\n",
    "tuning_job_name = 'sagemaker-xgboost-211213-1832'\n",
    "best_training_job = 'sagemaker-xgboost-211213-1832-069-dd8cf5cb'\n",
    "\n",
    "# to kick off hyperparameter job\n",
    "print('Hyper Parameter Tuning job: {}'.format(tuning_job_name))\n",
    "print('Best Training job: {}'.format(best_training_job))"
   ]
  },
  {
   "cell_type": "markdown",
   "metadata": {},
   "source": [
    "<a id='predict'></a>\n",
    "# Step 7. Predict and Feature Analysis using validation dataset\n",
    "\n",
    "Load back a trained hyper parameter training job, and do predictions using the best performing model"
   ]
  },
  {
   "cell_type": "code",
   "execution_count": null,
   "metadata": {
    "scrolled": true
   },
   "outputs": [],
   "source": [
    "def predict(tuningjobname, path_output, test_location, content_type='csv'):\n",
    "    \n",
    "    # get model info\n",
    "    tuning_job_info = sagemaker_session.sagemaker_client.describe_hyper_parameter_tuning_job(HyperParameterTuningJobName=tuningjobname) \n",
    "    \n",
    "    # Describe the results of the best training job. \n",
    "    best_training_job_name = tuning_job_info['BestTrainingJob']['TrainingJobName']\n",
    "    training_job_info = sagemaker_session.sagemaker_client.describe_training_job(TrainingJobName=best_training_job_name)\n",
    "    model_artifacts = training_job_info['ModelArtifacts']['S3ModelArtifacts']\n",
    "    best_result = tuning_job_info['BestTrainingJob']['FinalHyperParameterTuningJobObjectiveMetric']['Value']\n",
    "    print('Best training job: {}'.format(best_training_job_name))\n",
    "    print('Best_result: {}'.format(best_result))\n",
    "    print('Model artifacts: {}'.format(model_artifacts))\n",
    "     \n",
    "    # Use the best model to predict  \n",
    "    xgb_attached = sagemaker.estimator.Estimator.attach(best_training_job_name)\n",
    "    xgb_attached.enable_sagemaker_metrics\n",
    "    xgb_transformer = xgb_attached.transformer(instance_count = 1, \n",
    "                                               instance_type = 'ml.m5.4xlarge')\n",
    "    \n",
    "    xgb_transformer.transform(test_location, content_type=content_type, split_type='Line', wait=True)\n",
    "    \n",
    "    # copy the model prediction from S3 to local environment for easier further analysis\n",
    "    !aws s3 cp --recursive $xgb_transformer.output_path $path_output\n",
    "    \n",
    "    print('Prediction output downloaded from {} to {}'.format(xgb_transformer.output_path, path_output))\n",
    "    \n",
    "    return xgb_transformer, model_artifacts"
   ]
  },
  {
   "cell_type": "code",
   "execution_count": null,
   "metadata": {
    "scrolled": true
   },
   "outputs": [],
   "source": [
    "# Predict validation dataset\n",
    "xgb_transformer, model_artifacts = predict(tuning_job_name, path_output, test_location, content_type='csv')"
   ]
  },
  {
   "cell_type": "code",
   "execution_count": null,
   "metadata": {
    "scrolled": true
   },
   "outputs": [],
   "source": [
    "def evaluate(path_output, y):\n",
    "       \n",
    "    # get predictions\n",
    "    y_pred = pd.read_csv(os.path.join(path_output, 'test.csv.out'), header=None) \n",
    "    \n",
    "    # round probability predictions to calculate the accuracy\n",
    "    predictions = [round(num) for num in y_pred.squeeze().values]\n",
    "    print('Accuracy: {}'.format(accuracy_score(y_validate.reset_index(drop=True), predictions)))\n",
    "    \n",
    "    # print confusion metrix\n",
    "    print('\\nConfusion matrix : \\n{}'.format(confusion_matrix(y_validate, predictions)))\n",
    "    \n",
    "    # ROC needs that we pass the probability\n",
    "    # https://stackoverflow.com/questions/62192616/strange-behavior-of-roc-auc-score-roc-auc-auc\n",
    "    print('\\nAUC: {}'.format(roc_auc_score(y, y_pred)))"
   ]
  },
  {
   "cell_type": "code",
   "execution_count": null,
   "metadata": {
    "scrolled": true
   },
   "outputs": [],
   "source": [
    "# Test using validation dataset to see if we get the same AUC as AWS \n",
    "evaluate(path_output, y_validate)"
   ]
  },
  {
   "cell_type": "code",
   "execution_count": null,
   "metadata": {},
   "outputs": [],
   "source": [
    "# Try to generate a xgboost report for the best performing job\n",
    "xgb_attached = sagemaker.estimator.Estimator.attach(best_training_job)\n",
    "xgb_attached.enable_sagemaker_metrics\n",
    "xgb_transformer = xgb_attached.transformer(instance_count = 1, \n",
    "                                           instance_type = 'ml.m5.4xlarge')\n",
    "\n",
    "xgb_transformer.transform(test_location, content_type=content_type, split_type='Line', wait=False)"
   ]
  },
  {
   "cell_type": "markdown",
   "metadata": {},
   "source": [
    "### Feature and Tree analysis"
   ]
  },
  {
   "cell_type": "code",
   "execution_count": null,
   "metadata": {
    "scrolled": true
   },
   "outputs": [],
   "source": [
    "# copy the model locally to the notebook\n",
    "!aws s3 cp $model_artifacts '../data/models/'\n",
    "\n",
    "t = tarfile.open('../data/models/model.tar.gz', 'r:gz')\n",
    "t.extractall(path='../data/models/')\n",
    "\n",
    "# # Initialize and load the model\n",
    "model = xgb.Booster()  \n",
    "model.load_model('../data/models/xgboost-model')"
   ]
  },
  {
   "cell_type": "code",
   "execution_count": null,
   "metadata": {
    "scrolled": false
   },
   "outputs": [],
   "source": [
    "# plot xgboost feature importance      \n",
    "xgb_feature_importance(xgb, model)"
   ]
  },
  {
   "cell_type": "code",
   "execution_count": null,
   "metadata": {
    "scrolled": true
   },
   "outputs": [],
   "source": [
    "# visualize the first tree\n",
    "visualize_tree(xgb, bst, tree_to_plot=0)"
   ]
  },
  {
   "cell_type": "code",
   "execution_count": null,
   "metadata": {
    "scrolled": true
   },
   "outputs": [],
   "source": [
    "# Analyze tree complexity\n",
    "trees = model.trees_to_dataframe(fmap=filename_model_featuremap)\n",
    "trees_reduced = trees[trees['Feature'] != 'Leaf']\n",
    "print('Maximum trees = {}'.format(max(trees_reduced['Tree'])))\n",
    "print('Avg Depth = {}'.format(max(trees_reduced['Node'])))"
   ]
  },
  {
   "cell_type": "code",
   "execution_count": null,
   "metadata": {
    "scrolled": true
   },
   "outputs": [],
   "source": [
    "# get total gain by feature\n",
    "features = trees.groupby('Feature')['Gain'].sum().sort_values(ascending=False)\n",
    "features[:20].plot(kind='bar',figsize=(30,10))\n",
    "plt.title('Feature importance - total gain')\n",
    "plt.ylabel('F score')\n",
    "plt.show()"
   ]
  },
  {
   "cell_type": "markdown",
   "metadata": {},
   "source": [
    "<a id='kaggle'></a>\n",
    "# Step 8: Kaggle Competition\n",
    "\n",
    "Now that you've created a model to predict which individuals are most likely to respond to a mailout campaign, it's time to test that model in competition through Kaggle. If you click on the link [here](http://www.kaggle.com/t/21e6d45d4c574c7fa2d868f0e8c83140), you'll be taken to the competition page where, if you have a Kaggle account, you can enter.\n",
    "\n",
    "Your entry to the competition should be a CSV file with two columns. The first column should be a copy of \"LNR\", which acts as an ID number for each individual in the \"TEST\" partition. The second column, \"RESPONSE\", should be some measure of how likely each individual became a customer – this might not be a straightforward probability. As you should have found in Part 2, there is a large output class imbalance, where most individuals did not respond to the mailout. Thus, predicting individual classes and using accuracy does not seem to be an appropriate performance evaluation method. Instead, the competition will be using AUC to evaluate performance. The exact values of the \"RESPONSE\" column do not matter as much: only that the higher values try to capture as many of the actual customers as possible, early in the ROC curve sweep."
   ]
  },
  {
   "cell_type": "code",
   "execution_count": null,
   "metadata": {
    "scrolled": false
   },
   "outputs": [],
   "source": [
    "# Override the test file in S3 with testing dataset\n",
    "final_test_location = make_test_csv(df_scaled_mailout_test_enriched, \n",
    "                                    prefix, path_test, \n",
    "                                    filename_test_csv,\n",
    "                                    sagemaker_session,\n",
    "                                    bucket)"
   ]
  },
  {
   "cell_type": "markdown",
   "metadata": {},
   "source": [
    "### Run Batch transform job"
   ]
  },
  {
   "cell_type": "code",
   "execution_count": null,
   "metadata": {
    "scrolled": true
   },
   "outputs": [],
   "source": [
    "path = \"{}/test\".format(path_output)\n",
    "xgb_transformer_test, model_artifacts_test = predict(tuning_job_name, path_output, final_test_location) "
   ]
  },
  {
   "cell_type": "code",
   "execution_count": null,
   "metadata": {
    "scrolled": false
   },
   "outputs": [],
   "source": [
    "# get predictions\n",
    "path = os.path.join(path_output, 'test.csv.out')\n",
    "print(path)\n",
    "y_pred = pd.read_csv(path, header=None, names=['RESPONSE'])\n",
    "\n",
    "\n",
    "y_pred['LNR'] = df_scaled_mailout_test.index\n",
    "\n",
    "y_pred\n",
    "\n",
    "# change columns order\n",
    "column_order = ['LNR', 'RESPONSE']\n",
    "kaggle_output = y_pred.reindex(columns=column_order)\n",
    "\n",
    "kaggle_output"
   ]
  },
  {
   "cell_type": "code",
   "execution_count": null,
   "metadata": {
    "scrolled": false
   },
   "outputs": [],
   "source": [
    "# final output should have 42833 records\n",
    "predictions = [round(num) for num in y_pred['RESPONSE'].squeeze().values]\n",
    "print('Prediction response {} out of {}'.format(sum(predictions), len(predictions)))"
   ]
  },
  {
   "cell_type": "code",
   "execution_count": null,
   "metadata": {
    "scrolled": false
   },
   "outputs": [],
   "source": [
    "# save KAGGLE competition file locally\n",
    "path = path_output + '/kaggle.csv'\n",
    "kaggle_output.to_csv(path, index=False)"
   ]
  },
  {
   "attachments": {
    "image-2.png": {
     "image/png": "[encoded data removed]"
    }
   },
   "cell_type": "markdown",
   "metadata": {},
   "source": [
    "Final results: \n",
    "\n",
    "![image-2.png](attachment:image-2.png)"
   ]
  },
  {
   "cell_type": "markdown",
   "metadata": {},
   "source": [
    "<a id='references'></a>\n",
    "# References\n",
    "\n",
    "Imbalanced datasets: \n",
    "- https://towardsdatascience.com/how-to-deal-with-imbalanced-data-34ab7db9b100\n",
    "- https://towardsdatascience.com/classification-framework-for-imbalanced-data-9a7961354033\n",
    "- https://imbalanced-learn.org/stable/references/over_sampling.html#smote-algorithms\n",
    "- https://www.analyticsvidhya.com/blog/2020/07/10-techniques-to-deal-with-class-imbalance-in-machine-learning/\n",
    "- https://medium.com/analytics-vidhya/how-to-handle-imbalanced-dataset-b3dc05b85bf9\n",
    "- https://imbalanced-learn.org/stable/auto_examples/over-sampling/plot_shrinkage_effect.html\n",
    "\n",
    "\n",
    "XGBoost: \n",
    "- https://towardsdatascience.com/xgboost-is-not-black-magic-56ca013144b4 \n",
    "- https://xgboost.readthedocs.io/en/latest/python/python_intro.html#training\n",
    "- https://docs.aws.amazon.com/sagemaker/latest/dg/xgboost.html\n",
    "- https://towardsdatascience.com/a-guide-to-xgboost-hyperparameters-87980c7f44a9\n",
    "- https://discuss.xgboost.ai/t/feature-weights-does-not-work-as-expected/1998/4\n",
    "\n",
    "Feature Selection:\n",
    "- https://towardsdatascience.com/how-to-use-variance-thresholding-for-robust-feature-selection-a4503f2b5c3f\n",
    "\n",
    "\n",
    "Evaluation Metrics:\n",
    "- https://developers.google.com/machine-learning/crash-course/classification/roc-and-auc\n",
    "- https://subscription.packtpub.com/book/big_data_and_business_intelligence/9781838555078/6/ch06lvl1sec34/confusion-matrix\n",
    "\n",
    "Imputing missing values\n",
    "- https://machinelearningmastery.com/iterative-imputation-for-missing-values-in-machine-learning/\n",
    "- https://scikit-learn.org/stable/modules/generated/sklearn.impute.IterativeImputer.html\n",
    "\n",
    "AWS and Sagemaker\n",
    "- https://aws-ml-blog.s3.amazonaws.com/artifacts/prevent-customer-churn/part_2_preventing_customer_churn_XGBoost.html\n",
    "- https://docs.aws.amazon.com/sagemaker/latest/dg/debugger-training-xgboost-report.html\n"
   ]
  }
 ],
 "metadata": {
  "kernelspec": {
   "display_name": "Python 3 (ipykernel)",
   "language": "python",
   "name": "python3"
  },
  "language_info": {
   "codemirror_mode": {
    "name": "ipython",
    "version": 3
   },
   "file_extension": ".py",
   "mimetype": "text/x-python",
   "name": "python",
   "nbconvert_exporter": "python",
   "pygments_lexer": "ipython3",
   "version": "3.7.12"
  }
 },
 "nbformat": 4,
 "nbformat_minor": 2
}
